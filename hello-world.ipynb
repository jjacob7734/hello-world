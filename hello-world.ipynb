{
 "cells": [
  {
   "cell_type": "markdown",
   "id": "44ab53c4",
   "metadata": {},
   "source": [
    "Sample notebook for testing OGC packaging, deployment, and execution. All this notebook does is write an input string to a file."
   ]
  },
  {
   "cell_type": "code",
   "execution_count": 2,
   "id": "0b773f1b",
   "metadata": {
    "tags": [
     "parameters"
    ]
   },
   "outputs": [],
   "source": [
    "input_1 = \"Hello World!\""
   ]
  },
  {
   "cell_type": "code",
   "execution_count": 3,
   "id": "8f4bd7eb",
   "metadata": {},
   "outputs": [],
   "source": [
    "print(input_1)"
   ]
  },
  {
   "cell_type": "code",
   "execution_count": null,
   "id": "0707cfde",
   "metadata": {},
   "outputs": [],
   "source": []
  }
 ],
 "metadata": {
  "kernelspec": {
   "display_name": "Python 3",
   "language": "python",
   "name": "python3"
  },
  "language_info": {
   "codemirror_mode": {
    "name": "ipython",
    "version": 3
   },
   "file_extension": ".py",
   "mimetype": "text/x-python",
   "name": "python",
   "nbconvert_exporter": "python",
   "pygments_lexer": "ipython3",
   "version": "3.9.1"
  }
 },
 "nbformat": 4,
 "nbformat_minor": 5
}
